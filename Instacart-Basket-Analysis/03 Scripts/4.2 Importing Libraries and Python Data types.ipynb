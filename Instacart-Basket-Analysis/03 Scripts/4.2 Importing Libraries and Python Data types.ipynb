{
 "cells": [
  {
   "cell_type": "code",
   "execution_count": 1,
   "id": "8aa3d797",
   "metadata": {},
   "outputs": [],
   "source": [
    "#Import Libraries\n",
    "import pandas as pd\n",
    "import numpy as np\n",
    "import os"
   ]
  },
  {
   "cell_type": "code",
   "execution_count": 3,
   "id": "ac019d48",
   "metadata": {},
   "outputs": [
    {
     "data": {
      "text/plain": [
       "'1.5.3'"
      ]
     },
     "execution_count": 3,
     "metadata": {},
     "output_type": "execute_result"
    }
   ],
   "source": [
    "pd.__version__"
   ]
  },
  {
   "cell_type": "code",
   "execution_count": 7,
   "id": "6a1ea8c4",
   "metadata": {},
   "outputs": [],
   "source": [
    "x=2"
   ]
  },
  {
   "cell_type": "code",
   "execution_count": 8,
   "id": "40a9ff8f",
   "metadata": {},
   "outputs": [
    {
     "name": "stdout",
     "output_type": "stream",
     "text": [
      "2\n"
     ]
    }
   ],
   "source": [
    "print(x)"
   ]
  },
  {
   "cell_type": "code",
   "execution_count": 10,
   "id": "5be4f212",
   "metadata": {},
   "outputs": [],
   "source": [
    "y=0.2"
   ]
  },
  {
   "cell_type": "code",
   "execution_count": 11,
   "id": "deb91baa",
   "metadata": {},
   "outputs": [
    {
     "data": {
      "text/plain": [
       "float"
      ]
     },
     "execution_count": 11,
     "metadata": {},
     "output_type": "execute_result"
    }
   ],
   "source": [
    "type(y)"
   ]
  },
  {
   "cell_type": "code",
   "execution_count": 13,
   "id": "f00a161e",
   "metadata": {},
   "outputs": [
    {
     "data": {
      "text/plain": [
       "str"
      ]
     },
     "execution_count": 13,
     "metadata": {},
     "output_type": "execute_result"
    }
   ],
   "source": [
    "z=\"ranjitha\"  \n",
    "type(z)"
   ]
  },
  {
   "cell_type": "code",
   "execution_count": 19,
   "id": "100df655",
   "metadata": {},
   "outputs": [
    {
     "name": "stdout",
     "output_type": "stream",
     "text": [
      "6\n"
     ]
    }
   ],
   "source": [
    "x=2\n",
    "print(x+4)"
   ]
  },
  {
   "cell_type": "code",
   "execution_count": 21,
   "id": "9787076c",
   "metadata": {},
   "outputs": [
    {
     "name": "stdout",
     "output_type": "stream",
     "text": [
      "7\n"
     ]
    }
   ],
   "source": [
    "x=2 \n",
    "y=5\n",
    "print(x+y)"
   ]
  },
  {
   "cell_type": "code",
   "execution_count": 22,
   "id": "17467812",
   "metadata": {},
   "outputs": [
    {
     "name": "stdout",
     "output_type": "stream",
     "text": [
      "5\n"
     ]
    }
   ],
   "source": [
    "y=3\n",
    "print(y+x)"
   ]
  },
  {
   "cell_type": "code",
   "execution_count": 25,
   "id": "cd007515",
   "metadata": {},
   "outputs": [
    {
     "data": {
      "text/plain": [
       "False"
      ]
     },
     "execution_count": 25,
     "metadata": {},
     "output_type": "execute_result"
    }
   ],
   "source": [
    "x=10\n",
    "y=20\n",
    "(x==y)"
   ]
  },
  {
   "cell_type": "code",
   "execution_count": 18,
   "id": "b54e3548",
   "metadata": {},
   "outputs": [
    {
     "data": {
      "text/plain": [
       "bool"
      ]
     },
     "execution_count": 18,
     "metadata": {},
     "output_type": "execute_result"
    }
   ],
   "source": [
    "type(True)"
   ]
  },
  {
   "cell_type": "code",
   "execution_count": 28,
   "id": "123eb715",
   "metadata": {},
   "outputs": [
    {
     "data": {
      "text/plain": [
       "'iceiceiceiceiceiceiceiceiceiceiceiceiceiceiceiceiceiceiceiceiceiceiceiceiceiceiceiceiceice'"
      ]
     },
     "execution_count": 28,
     "metadata": {},
     "output_type": "execute_result"
    }
   ],
   "source": [
    "a=\"ice\"\n",
    "a*30"
   ]
  },
  {
   "cell_type": "code",
   "execution_count": 29,
   "id": "71e82e5e",
   "metadata": {},
   "outputs": [
    {
     "name": "stdout",
     "output_type": "stream",
     "text": [
      "hello World\n"
     ]
    }
   ],
   "source": [
    "print(\"hello World\")"
   ]
  },
  {
   "cell_type": "code",
   "execution_count": 9,
   "id": "7806d846",
   "metadata": {},
   "outputs": [
    {
     "data": {
      "text/plain": [
       "int"
      ]
     },
     "execution_count": 9,
     "metadata": {},
     "output_type": "execute_result"
    }
   ],
   "source": [
    "type(x)"
   ]
  },
  {
   "cell_type": "markdown",
   "id": "e8c4d5ec",
   "metadata": {},
   "source": [
    "#Task 4.2 "
   ]
  },
  {
   "cell_type": "markdown",
   "id": "780f4772",
   "metadata": {},
   "source": [
    "step-7"
   ]
  },
  {
   "cell_type": "code",
   "execution_count": 33,
   "id": "7b193e1b",
   "metadata": {},
   "outputs": [
    {
     "name": "stdout",
     "output_type": "stream",
     "text": [
      "100\n"
     ]
    }
   ],
   "source": [
    "x=15\n",
    "y=35\n",
    "z=2*(x+y)\n",
    "print (z) #multiplying"
   ]
  },
  {
   "cell_type": "code",
   "execution_count": 31,
   "id": "abd7fd1d",
   "metadata": {},
   "outputs": [
    {
     "name": "stdout",
     "output_type": "stream",
     "text": [
      "100\n"
     ]
    }
   ],
   "source": [
    "x=100\n",
    "y=0\n",
    "print (x+y)  #Addition"
   ]
  },
  {
   "cell_type": "code",
   "execution_count": 32,
   "id": "5af90032",
   "metadata": {},
   "outputs": [
    {
     "name": "stdout",
     "output_type": "stream",
     "text": [
      "100\n"
     ]
    }
   ],
   "source": [
    "x=250\n",
    "y=150\n",
    "print (x-y)  #subtraction"
   ]
  },
  {
   "cell_type": "markdown",
   "id": "9875b370",
   "metadata": {},
   "source": [
    "#step 8 - Code 2 floating-point variables and divide them by each other."
   ]
  },
  {
   "cell_type": "code",
   "execution_count": 34,
   "id": "28f682b7",
   "metadata": {},
   "outputs": [
    {
     "name": "stdout",
     "output_type": "stream",
     "text": [
      "0.1496254652240142\n"
     ]
    }
   ],
   "source": [
    "x=9.528\n",
    "y=63.679\n",
    "print (x/y)"
   ]
  },
  {
   "cell_type": "code",
   "execution_count": 35,
   "id": "21dd6397",
   "metadata": {},
   "outputs": [
    {
     "name": "stdout",
     "output_type": "stream",
     "text": [
      "23.341419041843544\n"
     ]
    }
   ],
   "source": [
    "p=769.80\n",
    "q=32.98\n",
    "print (p/q)"
   ]
  },
  {
   "cell_type": "markdown",
   "id": "8ea67e07",
   "metadata": {},
   "source": [
    "#Step 9 Construct a short word made of separate strings (you’ll need to concatenate some strings!)."
   ]
  },
  {
   "cell_type": "code",
   "execution_count": 37,
   "id": "a6dec69d",
   "metadata": {},
   "outputs": [
    {
     "name": "stdout",
     "output_type": "stream",
     "text": [
      "Career Foundary\n"
     ]
    }
   ],
   "source": [
    "x=\"Career\"\n",
    "y=\" Foundary\"\n",
    "print(x+y) "
   ]
  },
  {
   "cell_type": "markdown",
   "id": "d87826dc",
   "metadata": {},
   "source": [
    "#Step 10 Construct 2 short sentences made of separate strings."
   ]
  },
  {
   "cell_type": "code",
   "execution_count": 38,
   "id": "1b8c3f72",
   "metadata": {},
   "outputs": [
    {
     "name": "stdout",
     "output_type": "stream",
     "text": [
      "I love to code!\n"
     ]
    }
   ],
   "source": [
    "part1 = \"I love\"\n",
    "part2 = \" to code!\"\n",
    "print (part1 + part2)"
   ]
  },
  {
   "cell_type": "code",
   "execution_count": 41,
   "id": "73f10cda",
   "metadata": {},
   "outputs": [
    {
     "name": "stdout",
     "output_type": "stream",
     "text": [
      "My name is Ranjitha and I live in Germany\n"
     ]
    }
   ],
   "source": [
    "name=\"Ranjitha\"\n",
    "place = \"Germany\"\n",
    "sentence=\"My name is Ranjitha and I live in Germany\"\n",
    "print(sentence)"
   ]
  },
  {
   "cell_type": "code",
   "execution_count": null,
   "id": "8c20ca1b",
   "metadata": {},
   "outputs": [],
   "source": []
  },
  {
   "cell_type": "code",
   "execution_count": null,
   "id": "1b11e0f1",
   "metadata": {},
   "outputs": [],
   "source": []
  }
 ],
 "metadata": {
  "kernelspec": {
   "display_name": "Python 3 (ipykernel)",
   "language": "python",
   "name": "python3"
  },
  "language_info": {
   "codemirror_mode": {
    "name": "ipython",
    "version": 3
   },
   "file_extension": ".py",
   "mimetype": "text/x-python",
   "name": "python",
   "nbconvert_exporter": "python",
   "pygments_lexer": "ipython3",
   "version": "3.10.9"
  }
 },
 "nbformat": 4,
 "nbformat_minor": 5
}
